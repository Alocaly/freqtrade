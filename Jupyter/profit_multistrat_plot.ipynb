{
 "cells": [
  {
   "cell_type": "code",
   "execution_count": 1,
   "metadata": {},
   "outputs": [],
   "source": [
    "from freqtrade.arguments import Arguments\n",
    "from freqtrade.configuration import Configuration\n",
    "from freqtrade.analyze import Analyze\n",
    "from freqtrade import constants"
   ]
  },
  {
   "cell_type": "code",
   "execution_count": 2,
   "metadata": {},
   "outputs": [],
   "source": [
    "from argparse import Namespace"
   ]
  },
  {
   "cell_type": "code",
   "execution_count": 3,
   "metadata": {},
   "outputs": [],
   "source": [
    "from importlib import reload"
   ]
  },
  {
   "cell_type": "code",
   "execution_count": 4,
   "metadata": {},
   "outputs": [
    {
     "data": {
      "text/html": [
       "<script>requirejs.config({paths: { 'plotly': ['https://cdn.plot.ly/plotly-latest.min']},});if(!window.Plotly) {{require(['plotly'],function(plotly) {window.Plotly=plotly;});}}</script>"
      ],
      "text/vnd.plotly.v1+html": [
       "<script>requirejs.config({paths: { 'plotly': ['https://cdn.plot.ly/plotly-latest.min']},});if(!window.Plotly) {{require(['plotly'],function(plotly) {window.Plotly=plotly;});}}</script>"
      ]
     },
     "metadata": {},
     "output_type": "display_data"
    }
   ],
   "source": [
    "import plotly.offline as py\n",
    "import plotly.graph_objs as go\n",
    "#needed to have the display in the jupyter notebook:\n",
    "py.init_notebook_mode(connected=True)"
   ]
  },
  {
   "cell_type": "code",
   "execution_count": 5,
   "metadata": {},
   "outputs": [],
   "source": [
    "from freqtrade import exchange\n",
    "import freqtrade.optimize as optimize\n",
    "from freqtrade.optimize import backtesting\n"
   ]
  },
  {
   "cell_type": "code",
   "execution_count": 6,
   "metadata": {},
   "outputs": [],
   "source": [
    "argList =  ['-s', 'BinHV45', 'backtesting', '--timerange=20180105-', '--ticker-interval', '5m', '--realistic-simulation']\n",
    "arguments = Arguments(\n",
    "        argList,\n",
    "        'Fake command line for now '\n",
    "    )\n",
    "args = arguments.get_parsed_arg()"
   ]
  },
  {
   "cell_type": "code",
   "execution_count": 7,
   "metadata": {},
   "outputs": [],
   "source": [
    "args.config = \"../\" + args.config\n",
    "args.datadir = \"../\" + args.datadir"
   ]
  },
  {
   "cell_type": "code",
   "execution_count": 8,
   "metadata": {
    "scrolled": true
   },
   "outputs": [
    {
     "name": "stderr",
     "output_type": "stream",
     "text": [
      "2018-05-19 22:14:18,820 - freqtrade.configuration - INFO - Log level set to INFO\n",
      "2018-05-19 22:14:18,820 - freqtrade.configuration - INFO - Parameter -i/--ticker-interval detected ...\n",
      "2018-05-19 22:14:18,836 - freqtrade.configuration - INFO - Using ticker_interval: 5m ...\n",
      "2018-05-19 22:14:18,836 - freqtrade.configuration - INFO - Parameter --realistic-simulation detected ...\n",
      "2018-05-19 22:14:18,836 - freqtrade.configuration - INFO - Using max_open_trades: 3 ...\n",
      "2018-05-19 22:14:18,836 - freqtrade.configuration - INFO - Parameter --timerange detected: 20180105- ...\n",
      "2018-05-19 22:14:18,836 - freqtrade.configuration - INFO - Parameter --datadir detected: ../freqtrade\\tests\\testdata ...\n"
     ]
    }
   ],
   "source": [
    "configuration = Configuration(args)\n",
    "config = configuration.get_config()"
   ]
  },
  {
   "cell_type": "code",
   "execution_count": 9,
   "metadata": {},
   "outputs": [
    {
     "name": "stderr",
     "output_type": "stream",
     "text": [
      "2018-05-19 22:14:19,015 - freqtrade.exchange - INFO - Instance is running with dry_run enabled\n",
      "2018-05-19 22:14:19,023 - freqtrade.exchange - INFO - Using Exchange \"Binance\"\n",
      "2018-05-19 22:14:19,486 - freqtrade.strategy.resolver - INFO - Using resolved strategy BinHV45 from 'd:\\work\\finances\\freqtrade\\myfreqtrade\\freqtrade\\freqtrade\\strategy\\..\\..\\user_data\\strategies'\n",
      "2018-05-19 22:14:19,487 - freqtrade.strategy.resolver - INFO - Override strategy 'ticker_interval' with value in config file: 5m.\n"
     ]
    }
   ],
   "source": [
    "exchange.init(config)\n",
    "analyze = Analyze(config)"
   ]
  },
  {
   "cell_type": "code",
   "execution_count": 10,
   "metadata": {},
   "outputs": [],
   "source": [
    "pairs = config['exchange']['pair_whitelist']\n",
    "ticker_interval = config['ticker_interval']"
   ]
  },
  {
   "cell_type": "code",
   "execution_count": 11,
   "metadata": {},
   "outputs": [],
   "source": [
    "timerange = Arguments.parse_timerange(config.get('timerange'))\n",
    "data = optimize.load_data(\n",
    "    config['datadir'],\n",
    "    pairs=pairs,\n",
    "    ticker_interval=ticker_interval,\n",
    "    refresh_pairs=config.get('refresh_pairs', False),\n",
    "    timerange=timerange\n",
    ")"
   ]
  },
  {
   "cell_type": "code",
   "execution_count": 12,
   "metadata": {},
   "outputs": [],
   "source": [
    "def CumulProfit( df ):\n",
    "    #cumul Profit :\n",
    "    curSum = 100\n",
    "    df.loc[:, 'CumulPL'] = curSum\n",
    "    columnIndex = df.columns.get_loc('CumulPL')\n",
    "    for i in range(1, len(df)):\n",
    "        curSum = curSum * ( 1.0 + df.iloc[i]['profit_percent'])\n",
    "        df.iloc[i,columnIndex] = curSum"
   ]
  },
  {
   "cell_type": "code",
   "execution_count": 13,
   "metadata": {},
   "outputs": [],
   "source": [
    "def GraphRoundTripList( roundTripList, curveNames=[] ):\n",
    "    data = []\n",
    "    index = 0\n",
    "    line100 = go.Scatter( x= [ roundTripList[0].iloc[0, :]['sell_date'], roundTripList[0].iloc[-1, :]['sell_date']], \n",
    "                          y=[100.0,100.0],\n",
    "                          name=\"\",\n",
    "                          line = dict( color = ('rgb(200, 200, 200)'), width = 4)\n",
    "                        )\n",
    "    data.append(line100)\n",
    "    for rt in roundTripList:\n",
    "        graphName = 'pair' + str(index)\n",
    "        if index < len(curveNames):\n",
    "            graphName = curveNames[index]            \n",
    "        graph = go.Scatter( x = rt['sell_date'], y=rt['CumulPL'], name=graphName)\n",
    "        index += 1\n",
    "        data.append(graph)\n",
    "    fig = go.Figure(data=data)\n",
    "    py.iplot(fig)"
   ]
  },
  {
   "cell_type": "code",
   "execution_count": 14,
   "metadata": {},
   "outputs": [],
   "source": [
    "sell_profit_only = config.get('experimental', {}).get('sell_profit_only', False)\n",
    "use_sell_signal = config.get('experimental', {}).get('use_sell_signal', False)\n",
    "max_open_trades = config['max_open_trades']"
   ]
  },
  {
   "cell_type": "code",
   "execution_count": 15,
   "metadata": {},
   "outputs": [],
   "source": [
    "preprocessed = analyze.tickerdata_to_dataframe(data)"
   ]
  },
  {
   "cell_type": "code",
   "execution_count": 16,
   "metadata": {},
   "outputs": [],
   "source": [
    "min_date, max_date = backtesting.Backtesting.get_timeframe(preprocessed)"
   ]
  },
  {
   "cell_type": "code",
   "execution_count": 17,
   "metadata": {},
   "outputs": [],
   "source": [
    "def getCumulProfitForStrat( strat ):\n",
    "    config['strategy'] = strat\n",
    "    analyze = Analyze(config)\n",
    "    preprocessed = analyze.tickerdata_to_dataframe(data)\n",
    "    myBacktesting = backtesting.Backtesting(config)\n",
    "    results = myBacktesting.backtest(\n",
    "            {\n",
    "                'stake_amount': config.get('stake_amount'),\n",
    "                'processed': preprocessed,\n",
    "                'max_open_trades': max_open_trades,\n",
    "                'realistic': config.get('realistic_simulation', False),\n",
    "                'sell_profit_only': sell_profit_only,\n",
    "                'use_sell_signal': use_sell_signal,\n",
    "                'record': config.get('export')\n",
    "            }\n",
    "        )\n",
    "    sortedResults = results.sort_values('sell_date') \n",
    "    sortedResults = sortedResults.reset_index(drop=True)\n",
    "    CumulProfit( sortedResults )\n",
    "    return sortedResults"
   ]
  },
  {
   "cell_type": "markdown",
   "metadata": {},
   "source": [
    "#strat_list = [ \"BinHV45\", \"Quickie\", \"Strategy006\", \"ASDTSRockwellTrading\", \"AverageStrategy\", \"BinHV27\", \"ClucMay72018\", \"CofiBitStrategy\", \"EMASkipPump\", \"MACDStrategy\", \"ReinforcedQuickie\", \"Simple\", \"SmoothOperator\"]\n",
    "strat_list = [ \"BinHV45\", \"Quickie\", \"Strategy006\", \"ASDTSRockwellTrading\", \"AverageStrategy\", \"BinHV27\", \"ClucMay72018\", \"CofiBitStrategy\"]"
   ]
  },
  {
   "cell_type": "code",
   "execution_count": 18,
   "metadata": {},
   "outputs": [],
   "source": [
    "strat_list = [ \"Low_BB\",\"BinHV27\", \"BinHV45\", \"Quickie\", \"Strategy006\", \"ASDTSRockwellTrading\", \"AverageStrategy\", \"ClucMay72018\", \"CofiBitStrategy\", \"EMASkipPump\", \"MACDStrategy\",\"ReinforcedQuickie\", \"Simple\"]"
   ]
  },
  {
   "cell_type": "code",
   "execution_count": null,
   "metadata": {
    "scrolled": false
   },
   "outputs": [
    {
     "name": "stderr",
     "output_type": "stream",
     "text": [
      "2018-05-19 22:14:33,895 - freqtrade.strategy.resolver - INFO - Using resolved strategy Low_BB from 'd:\\work\\finances\\freqtrade\\myfreqtrade\\freqtrade\\freqtrade\\strategy\\..\\..\\user_data\\strategies'\n",
      "2018-05-19 22:14:33,895 - freqtrade.strategy.resolver - INFO - Override strategy 'ticker_interval' with value in config file: 5m.\n",
      "2018-05-19 22:14:34,935 - freqtrade.strategy.resolver - INFO - Using resolved strategy Low_BB from 'd:\\work\\finances\\freqtrade\\myfreqtrade\\freqtrade\\freqtrade\\strategy\\..\\..\\user_data\\strategies'\n",
      "2018-05-19 22:14:34,935 - freqtrade.strategy.resolver - INFO - Override strategy 'ticker_interval' with value in config file: 5m.\n",
      "2018-05-19 22:14:34,935 - freqtrade.exchange - INFO - Instance is running with dry_run enabled\n",
      "2018-05-19 22:14:34,942 - freqtrade.exchange - INFO - Using Exchange \"Binance\"\n",
      "2018-05-19 22:14:38,273 - freqtrade.strategy.resolver - INFO - Using resolved strategy BinHV27 from 'd:\\work\\finances\\freqtrade\\myfreqtrade\\freqtrade\\freqtrade\\strategy\\..\\..\\user_data\\strategies'\n",
      "2018-05-19 22:14:38,273 - freqtrade.strategy.resolver - INFO - Override strategy 'ticker_interval' with value in config file: 5m.\n",
      "2018-05-19 22:14:39,179 - freqtrade.strategy.resolver - INFO - Using resolved strategy BinHV27 from 'd:\\work\\finances\\freqtrade\\myfreqtrade\\freqtrade\\freqtrade\\strategy\\..\\..\\user_data\\strategies'\n",
      "2018-05-19 22:14:39,180 - freqtrade.strategy.resolver - INFO - Override strategy 'ticker_interval' with value in config file: 5m.\n",
      "2018-05-19 22:14:39,181 - freqtrade.exchange - INFO - Instance is running with dry_run enabled\n",
      "2018-05-19 22:14:39,186 - freqtrade.exchange - INFO - Using Exchange \"Binance\"\n",
      "2018-05-19 22:14:54,552 - freqtrade.strategy.resolver - INFO - Using resolved strategy BinHV45 from 'd:\\work\\finances\\freqtrade\\myfreqtrade\\freqtrade\\freqtrade\\strategy\\..\\..\\user_data\\strategies'\n",
      "2018-05-19 22:14:54,552 - freqtrade.strategy.resolver - INFO - Override strategy 'ticker_interval' with value in config file: 5m.\n",
      "2018-05-19 22:14:55,491 - freqtrade.strategy.resolver - INFO - Using resolved strategy BinHV45 from 'd:\\work\\finances\\freqtrade\\myfreqtrade\\freqtrade\\freqtrade\\strategy\\..\\..\\user_data\\strategies'\n",
      "2018-05-19 22:14:55,492 - freqtrade.strategy.resolver - INFO - Override strategy 'ticker_interval' with value in config file: 5m.\n",
      "2018-05-19 22:14:55,494 - freqtrade.exchange - INFO - Instance is running with dry_run enabled\n",
      "2018-05-19 22:14:55,499 - freqtrade.exchange - INFO - Using Exchange \"Binance\"\n",
      "2018-05-19 22:14:59,755 - freqtrade.strategy.resolver - INFO - Using resolved strategy Quickie from 'd:\\work\\finances\\freqtrade\\myfreqtrade\\freqtrade\\freqtrade\\strategy\\..\\..\\user_data\\strategies'\n",
      "2018-05-19 22:14:59,755 - freqtrade.strategy.resolver - INFO - Override strategy 'ticker_interval' with value in config file: 5m.\n",
      "2018-05-19 22:15:00,661 - freqtrade.strategy.resolver - INFO - Using resolved strategy Quickie from 'd:\\work\\finances\\freqtrade\\myfreqtrade\\freqtrade\\freqtrade\\strategy\\..\\..\\user_data\\strategies'\n",
      "2018-05-19 22:15:00,662 - freqtrade.strategy.resolver - INFO - Override strategy 'ticker_interval' with value in config file: 5m.\n",
      "2018-05-19 22:15:00,663 - freqtrade.exchange - INFO - Instance is running with dry_run enabled\n",
      "2018-05-19 22:15:00,670 - freqtrade.exchange - INFO - Using Exchange \"Binance\"\n",
      "2018-05-19 22:15:12,699 - freqtrade.strategy.resolver - INFO - Using resolved strategy Strategy006 from 'd:\\work\\finances\\freqtrade\\myfreqtrade\\freqtrade\\freqtrade\\strategy\\..\\..\\user_data\\strategies'\n",
      "2018-05-19 22:15:12,700 - freqtrade.strategy.resolver - INFO - Override strategy 'ticker_interval' with value in config file: 5m.\n",
      "2018-05-19 22:15:13,649 - freqtrade.strategy.resolver - INFO - Using resolved strategy Strategy006 from 'd:\\work\\finances\\freqtrade\\myfreqtrade\\freqtrade\\freqtrade\\strategy\\..\\..\\user_data\\strategies'\n",
      "2018-05-19 22:15:13,650 - freqtrade.strategy.resolver - INFO - Override strategy 'ticker_interval' with value in config file: 5m.\n",
      "2018-05-19 22:15:13,651 - freqtrade.exchange - INFO - Instance is running with dry_run enabled\n",
      "2018-05-19 22:15:13,656 - freqtrade.exchange - INFO - Using Exchange \"Binance\"\n",
      "2018-05-19 22:15:21,798 - freqtrade.strategy.resolver - INFO - Using resolved strategy ASDTSRockwellTrading from 'd:\\work\\finances\\freqtrade\\myfreqtrade\\freqtrade\\freqtrade\\strategy\\..\\..\\user_data\\strategies'\n",
      "2018-05-19 22:15:21,799 - freqtrade.strategy.resolver - INFO - Override strategy 'ticker_interval' with value in config file: 5m.\n",
      "2018-05-19 22:15:22,450 - freqtrade.strategy.resolver - INFO - Using resolved strategy ASDTSRockwellTrading from 'd:\\work\\finances\\freqtrade\\myfreqtrade\\freqtrade\\freqtrade\\strategy\\..\\..\\user_data\\strategies'\n",
      "2018-05-19 22:15:22,451 - freqtrade.strategy.resolver - INFO - Override strategy 'ticker_interval' with value in config file: 5m.\n",
      "2018-05-19 22:15:22,452 - freqtrade.exchange - INFO - Instance is running with dry_run enabled\n",
      "2018-05-19 22:15:22,457 - freqtrade.exchange - INFO - Using Exchange \"Binance\"\n",
      "2018-05-19 22:15:32,927 - freqtrade.strategy.resolver - INFO - Using resolved strategy AverageStrategy from 'd:\\work\\finances\\freqtrade\\myfreqtrade\\freqtrade\\freqtrade\\strategy\\..\\..\\user_data\\strategies'\n",
      "2018-05-19 22:15:32,928 - freqtrade.strategy.resolver - INFO - Override strategy 'ticker_interval' with value in config file: 5m.\n",
      "2018-05-19 22:15:33,527 - freqtrade.strategy.resolver - INFO - Using resolved strategy AverageStrategy from 'd:\\work\\finances\\freqtrade\\myfreqtrade\\freqtrade\\freqtrade\\strategy\\..\\..\\user_data\\strategies'\n",
      "2018-05-19 22:15:33,528 - freqtrade.strategy.resolver - INFO - Override strategy 'ticker_interval' with value in config file: 5m.\n",
      "2018-05-19 22:15:33,530 - freqtrade.exchange - INFO - Instance is running with dry_run enabled\n",
      "2018-05-19 22:15:33,534 - freqtrade.exchange - INFO - Using Exchange \"Binance\"\n",
      "2018-05-19 22:15:47,075 - freqtrade.strategy.resolver - INFO - Using resolved strategy ClucMay72018 from 'd:\\work\\finances\\freqtrade\\myfreqtrade\\freqtrade\\freqtrade\\strategy\\..\\..\\user_data\\strategies'\n",
      "2018-05-19 22:15:47,076 - freqtrade.strategy.resolver - INFO - Override strategy 'ticker_interval' with value in config file: 5m.\n",
      "2018-05-19 22:15:48,028 - freqtrade.strategy.resolver - INFO - Using resolved strategy ClucMay72018 from 'd:\\work\\finances\\freqtrade\\myfreqtrade\\freqtrade\\freqtrade\\strategy\\..\\..\\user_data\\strategies'\n",
      "2018-05-19 22:15:48,029 - freqtrade.strategy.resolver - INFO - Override strategy 'ticker_interval' with value in config file: 5m.\n",
      "2018-05-19 22:15:48,031 - freqtrade.exchange - INFO - Instance is running with dry_run enabled\n",
      "2018-05-19 22:15:48,037 - freqtrade.exchange - INFO - Using Exchange \"Binance\"\n",
      "2018-05-19 22:15:51,670 - freqtrade.strategy.resolver - INFO - Using resolved strategy CofiBitStrategy from 'd:\\work\\finances\\freqtrade\\myfreqtrade\\freqtrade\\freqtrade\\strategy\\..\\..\\user_data\\strategies'\n",
      "2018-05-19 22:15:51,671 - freqtrade.strategy.resolver - INFO - Override strategy 'ticker_interval' with value in config file: 5m.\n",
      "2018-05-19 22:15:52,326 - freqtrade.strategy.resolver - INFO - Using resolved strategy CofiBitStrategy from 'd:\\work\\finances\\freqtrade\\myfreqtrade\\freqtrade\\freqtrade\\strategy\\..\\..\\user_data\\strategies'\n",
      "2018-05-19 22:15:52,327 - freqtrade.strategy.resolver - INFO - Override strategy 'ticker_interval' with value in config file: 5m.\n",
      "2018-05-19 22:15:52,329 - freqtrade.exchange - INFO - Instance is running with dry_run enabled\n",
      "2018-05-19 22:15:52,333 - freqtrade.exchange - INFO - Using Exchange \"Binance\"\n"
     ]
    }
   ],
   "source": [
    "result_list = []\n",
    "for strat in strat_list:\n",
    "    stratResult = getCumulProfitForStrat( strat )\n",
    "    result_list.append( stratResult )\n",
    "GraphRoundTripList( result_list, strat_list)"
   ]
  },
  {
   "cell_type": "code",
   "execution_count": null,
   "metadata": {},
   "outputs": [],
   "source": []
  }
 ],
 "metadata": {
  "kernelspec": {
   "display_name": "Python [conda env:FreqTradeCcxt]",
   "language": "python",
   "name": "conda-env-FreqTradeCcxt-py"
  },
  "language_info": {
   "codemirror_mode": {
    "name": "ipython",
    "version": 3
   },
   "file_extension": ".py",
   "mimetype": "text/x-python",
   "name": "python",
   "nbconvert_exporter": "python",
   "pygments_lexer": "ipython3",
   "version": "3.6.4"
  }
 },
 "nbformat": 4,
 "nbformat_minor": 2
}
